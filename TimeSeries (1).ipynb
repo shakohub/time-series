{
 "cells": [
  {
   "cell_type": "markdown",
   "metadata": {},
   "source": [
    "# Time Series Analysis\n",
    "\n",
    "**Time series** is data that has shifts and changes across continuous time intervals. Time series data can have seasonality characteristics, such as weather trends, or volatile patterns like the stock market. Creating predictive models for time series data is tricky because of its contant movement, and there are different methods used for forecasting depending on the industry.\n",
    "\n",
    "In this lesson, we will focus on visually analyzing patterns from past time series data to create insights about how to approach future decisions. "
   ]
  },
  {
   "cell_type": "code",
   "execution_count": 18,
   "metadata": {
    "jupyter": {
     "outputs_hidden": true
    }
   },
   "outputs": [],
   "source": [
    "import pandas as pd\n",
    "import numpy as np\n",
    "import matplotlib.pyplot as plt\n",
    "\n",
    "%matplotlib inline"
   ]
  },
  {
   "cell_type": "markdown",
   "metadata": {},
   "source": [
    "## Datetime in `pandas`\n",
    "\n",
    "When time series is read into a `pandas` dataframe, it is categorized as a string object. But in order to use time-specific information such as year or month, we need to convert it into a **datetime** data type using the `pd.to_datetime()` function."
   ]
  },
  {
   "cell_type": "code",
   "execution_count": 19,
   "metadata": {},
   "outputs": [],
   "source": [
    "timestamp = '2018-01-15 3:45pm'"
   ]
  },
  {
   "cell_type": "code",
   "execution_count": 21,
   "metadata": {},
   "outputs": [
    {
     "data": {
      "text/plain": [
       "Timestamp('2018-01-15 15:45:00')"
      ]
     },
     "execution_count": 21,
     "metadata": {},
     "output_type": "execute_result"
    }
   ],
   "source": [
    "pd.to_datetime(timestamp)"
   ]
  },
  {
   "cell_type": "code",
   "execution_count": 22,
   "metadata": {},
   "outputs": [],
   "source": [
    "date = '03/04/2019'"
   ]
  },
  {
   "cell_type": "code",
   "execution_count": 23,
   "metadata": {},
   "outputs": [
    {
     "data": {
      "text/plain": [
       "Timestamp('2019-04-03 00:00:00')"
      ]
     },
     "execution_count": 23,
     "metadata": {},
     "output_type": "execute_result"
    }
   ],
   "source": [
    "pd.to_datetime(date, dayfirst=True)"
   ]
  },
  {
   "cell_type": "code",
   "execution_count": 24,
   "metadata": {},
   "outputs": [
    {
     "data": {
      "text/html": [
       "<div>\n",
       "<style scoped>\n",
       "    .dataframe tbody tr th:only-of-type {\n",
       "        vertical-align: middle;\n",
       "    }\n",
       "\n",
       "    .dataframe tbody tr th {\n",
       "        vertical-align: top;\n",
       "    }\n",
       "\n",
       "    .dataframe thead th {\n",
       "        text-align: right;\n",
       "    }\n",
       "</style>\n",
       "<table border=\"1\" class=\"dataframe\">\n",
       "  <thead>\n",
       "    <tr style=\"text-align: right;\">\n",
       "      <th></th>\n",
       "      <th>date</th>\n",
       "      <th>prices</th>\n",
       "    </tr>\n",
       "  </thead>\n",
       "  <tbody>\n",
       "    <tr>\n",
       "      <td>0</td>\n",
       "      <td>07-04-2014</td>\n",
       "      <td>125</td>\n",
       "    </tr>\n",
       "    <tr>\n",
       "      <td>1</td>\n",
       "      <td>08-04-2014</td>\n",
       "      <td>372</td>\n",
       "    </tr>\n",
       "    <tr>\n",
       "      <td>2</td>\n",
       "      <td>07-04-2015</td>\n",
       "      <td>94</td>\n",
       "    </tr>\n",
       "    <tr>\n",
       "      <td>3</td>\n",
       "      <td>08-04-2015</td>\n",
       "      <td>537</td>\n",
       "    </tr>\n",
       "  </tbody>\n",
       "</table>\n",
       "</div>"
      ],
      "text/plain": [
       "         date  prices\n",
       "0  07-04-2014     125\n",
       "1  08-04-2014     372\n",
       "2  07-04-2015      94\n",
       "3  08-04-2015     537"
      ]
     },
     "execution_count": 24,
     "metadata": {},
     "output_type": "execute_result"
    }
   ],
   "source": [
    "dates = ['07-04-2014', '08-04-2014','07-04-2015', '08-04-2015']\n",
    "prices = [125, 372, 94, 537]\n",
    "dateslist = list(zip(dates, prices))\n",
    "\n",
    "df = pd.DataFrame(data=dateslist, columns=['date', 'prices'])\n",
    "df"
   ]
  },
  {
   "cell_type": "code",
   "execution_count": 26,
   "metadata": {},
   "outputs": [
    {
     "data": {
      "text/plain": [
       "date      object\n",
       "prices     int64\n",
       "dtype: object"
      ]
     },
     "execution_count": 26,
     "metadata": {},
     "output_type": "execute_result"
    }
   ],
   "source": [
    "df.dtypes"
   ]
  },
  {
   "cell_type": "code",
   "execution_count": 27,
   "metadata": {},
   "outputs": [],
   "source": [
    "df['date'] = pd.to_datetime(df['date'], format='%m-%d-%Y')"
   ]
  },
  {
   "cell_type": "code",
   "execution_count": 28,
   "metadata": {},
   "outputs": [
    {
     "data": {
      "text/plain": [
       "date      datetime64[ns]\n",
       "prices             int64\n",
       "dtype: object"
      ]
     },
     "execution_count": 28,
     "metadata": {},
     "output_type": "execute_result"
    }
   ],
   "source": [
    "df.dtypes"
   ]
  },
  {
   "cell_type": "code",
   "execution_count": 29,
   "metadata": {
    "scrolled": false
   },
   "outputs": [
    {
     "data": {
      "text/html": [
       "<div>\n",
       "<style scoped>\n",
       "    .dataframe tbody tr th:only-of-type {\n",
       "        vertical-align: middle;\n",
       "    }\n",
       "\n",
       "    .dataframe tbody tr th {\n",
       "        vertical-align: top;\n",
       "    }\n",
       "\n",
       "    .dataframe thead th {\n",
       "        text-align: right;\n",
       "    }\n",
       "</style>\n",
       "<table border=\"1\" class=\"dataframe\">\n",
       "  <thead>\n",
       "    <tr style=\"text-align: right;\">\n",
       "      <th></th>\n",
       "      <th>date</th>\n",
       "      <th>prices</th>\n",
       "    </tr>\n",
       "  </thead>\n",
       "  <tbody>\n",
       "    <tr>\n",
       "      <td>0</td>\n",
       "      <td>2014-07-04</td>\n",
       "      <td>125</td>\n",
       "    </tr>\n",
       "    <tr>\n",
       "      <td>1</td>\n",
       "      <td>2014-08-04</td>\n",
       "      <td>372</td>\n",
       "    </tr>\n",
       "    <tr>\n",
       "      <td>2</td>\n",
       "      <td>2015-07-04</td>\n",
       "      <td>94</td>\n",
       "    </tr>\n",
       "    <tr>\n",
       "      <td>3</td>\n",
       "      <td>2015-08-04</td>\n",
       "      <td>537</td>\n",
       "    </tr>\n",
       "  </tbody>\n",
       "</table>\n",
       "</div>"
      ],
      "text/plain": [
       "        date  prices\n",
       "0 2014-07-04     125\n",
       "1 2014-08-04     372\n",
       "2 2015-07-04      94\n",
       "3 2015-08-04     537"
      ]
     },
     "execution_count": 29,
     "metadata": {},
     "output_type": "execute_result"
    }
   ],
   "source": [
    "df"
   ]
  },
  {
   "cell_type": "code",
   "execution_count": 30,
   "metadata": {
    "scrolled": true
   },
   "outputs": [
    {
     "data": {
      "text/html": [
       "<div>\n",
       "<style scoped>\n",
       "    .dataframe tbody tr th:only-of-type {\n",
       "        vertical-align: middle;\n",
       "    }\n",
       "\n",
       "    .dataframe tbody tr th {\n",
       "        vertical-align: top;\n",
       "    }\n",
       "\n",
       "    .dataframe thead th {\n",
       "        text-align: right;\n",
       "    }\n",
       "</style>\n",
       "<table border=\"1\" class=\"dataframe\">\n",
       "  <thead>\n",
       "    <tr style=\"text-align: right;\">\n",
       "      <th></th>\n",
       "      <th>date</th>\n",
       "      <th>prices</th>\n",
       "      <th>month</th>\n",
       "    </tr>\n",
       "  </thead>\n",
       "  <tbody>\n",
       "    <tr>\n",
       "      <td>0</td>\n",
       "      <td>2014-07-04</td>\n",
       "      <td>125</td>\n",
       "      <td>July</td>\n",
       "    </tr>\n",
       "    <tr>\n",
       "      <td>1</td>\n",
       "      <td>2014-08-04</td>\n",
       "      <td>372</td>\n",
       "      <td>August</td>\n",
       "    </tr>\n",
       "    <tr>\n",
       "      <td>2</td>\n",
       "      <td>2015-07-04</td>\n",
       "      <td>94</td>\n",
       "      <td>July</td>\n",
       "    </tr>\n",
       "    <tr>\n",
       "      <td>3</td>\n",
       "      <td>2015-08-04</td>\n",
       "      <td>537</td>\n",
       "      <td>August</td>\n",
       "    </tr>\n",
       "  </tbody>\n",
       "</table>\n",
       "</div>"
      ],
      "text/plain": [
       "        date  prices   month\n",
       "0 2014-07-04     125    July\n",
       "1 2014-08-04     372  August\n",
       "2 2015-07-04      94    July\n",
       "3 2015-08-04     537  August"
      ]
     },
     "execution_count": 30,
     "metadata": {},
     "output_type": "execute_result"
    }
   ],
   "source": [
    "df['month'] = df['date'].dt.month_name()\n",
    "df"
   ]
  },
  {
   "cell_type": "code",
   "execution_count": 70,
   "metadata": {},
   "outputs": [
    {
     "data": {
      "text/html": [
       "<div>\n",
       "<style scoped>\n",
       "    .dataframe tbody tr th:only-of-type {\n",
       "        vertical-align: middle;\n",
       "    }\n",
       "\n",
       "    .dataframe tbody tr th {\n",
       "        vertical-align: top;\n",
       "    }\n",
       "\n",
       "    .dataframe thead th {\n",
       "        text-align: right;\n",
       "    }\n",
       "</style>\n",
       "<table border=\"1\" class=\"dataframe\">\n",
       "  <thead>\n",
       "    <tr style=\"text-align: right;\">\n",
       "      <th></th>\n",
       "      <th>date</th>\n",
       "      <th>prices</th>\n",
       "      <th>month</th>\n",
       "      <th>weekday</th>\n",
       "    </tr>\n",
       "  </thead>\n",
       "  <tbody>\n",
       "    <tr>\n",
       "      <td>0</td>\n",
       "      <td>2014-07-04</td>\n",
       "      <td>125</td>\n",
       "      <td>July</td>\n",
       "      <td>Friday</td>\n",
       "    </tr>\n",
       "    <tr>\n",
       "      <td>1</td>\n",
       "      <td>2014-08-04</td>\n",
       "      <td>372</td>\n",
       "      <td>August</td>\n",
       "      <td>Monday</td>\n",
       "    </tr>\n",
       "    <tr>\n",
       "      <td>2</td>\n",
       "      <td>2015-07-04</td>\n",
       "      <td>94</td>\n",
       "      <td>July</td>\n",
       "      <td>Saturday</td>\n",
       "    </tr>\n",
       "    <tr>\n",
       "      <td>3</td>\n",
       "      <td>2015-08-04</td>\n",
       "      <td>537</td>\n",
       "      <td>August</td>\n",
       "      <td>Tuesday</td>\n",
       "    </tr>\n",
       "  </tbody>\n",
       "</table>\n",
       "</div>"
      ],
      "text/plain": [
       "        date  prices   month   weekday\n",
       "0 2014-07-04     125    July    Friday\n",
       "1 2014-08-04     372  August    Monday\n",
       "2 2015-07-04      94    July  Saturday\n",
       "3 2015-08-04     537  August   Tuesday"
      ]
     },
     "execution_count": 70,
     "metadata": {},
     "output_type": "execute_result"
    }
   ],
   "source": [
    "df['weekday'] = df['date'].dt.day_name()\n",
    "df"
   ]
  },
  {
   "cell_type": "markdown",
   "metadata": {},
   "source": [
    "## Visual Analysis of Fremont Bridge\n",
    "\n",
    "Using data from the [City of Seattle Open Data Portal](https://data.seattle.gov/Transportation/Fremont-Bridge-Bicycle-Counter/65db-xm6k), we will analyze trends of bicycle traffic on the Fremont Bridge to understand frequency of use for different times and days."
   ]
  },
  {
   "cell_type": "code",
   "execution_count": 31,
   "metadata": {},
   "outputs": [
    {
     "data": {
      "text/html": [
       "<div>\n",
       "<style scoped>\n",
       "    .dataframe tbody tr th:only-of-type {\n",
       "        vertical-align: middle;\n",
       "    }\n",
       "\n",
       "    .dataframe tbody tr th {\n",
       "        vertical-align: top;\n",
       "    }\n",
       "\n",
       "    .dataframe thead th {\n",
       "        text-align: right;\n",
       "    }\n",
       "</style>\n",
       "<table border=\"1\" class=\"dataframe\">\n",
       "  <thead>\n",
       "    <tr style=\"text-align: right;\">\n",
       "      <th></th>\n",
       "      <th>Fremont Bridge East Sidewalk</th>\n",
       "      <th>Fremont Bridge West Sidewalk</th>\n",
       "    </tr>\n",
       "    <tr>\n",
       "      <th>Date</th>\n",
       "      <th></th>\n",
       "      <th></th>\n",
       "    </tr>\n",
       "  </thead>\n",
       "  <tbody>\n",
       "    <tr>\n",
       "      <td>2012-10-03 00:00:00</td>\n",
       "      <td>9.0</td>\n",
       "      <td>4.0</td>\n",
       "    </tr>\n",
       "    <tr>\n",
       "      <td>2012-10-03 01:00:00</td>\n",
       "      <td>6.0</td>\n",
       "      <td>4.0</td>\n",
       "    </tr>\n",
       "    <tr>\n",
       "      <td>2012-10-03 02:00:00</td>\n",
       "      <td>1.0</td>\n",
       "      <td>1.0</td>\n",
       "    </tr>\n",
       "    <tr>\n",
       "      <td>2012-10-03 03:00:00</td>\n",
       "      <td>3.0</td>\n",
       "      <td>2.0</td>\n",
       "    </tr>\n",
       "    <tr>\n",
       "      <td>2012-10-03 04:00:00</td>\n",
       "      <td>1.0</td>\n",
       "      <td>6.0</td>\n",
       "    </tr>\n",
       "  </tbody>\n",
       "</table>\n",
       "</div>"
      ],
      "text/plain": [
       "                     Fremont Bridge East Sidewalk  \\\n",
       "Date                                                \n",
       "2012-10-03 00:00:00                           9.0   \n",
       "2012-10-03 01:00:00                           6.0   \n",
       "2012-10-03 02:00:00                           1.0   \n",
       "2012-10-03 03:00:00                           3.0   \n",
       "2012-10-03 04:00:00                           1.0   \n",
       "\n",
       "                     Fremont Bridge West Sidewalk  \n",
       "Date                                               \n",
       "2012-10-03 00:00:00                           4.0  \n",
       "2012-10-03 01:00:00                           4.0  \n",
       "2012-10-03 02:00:00                           1.0  \n",
       "2012-10-03 03:00:00                           2.0  \n",
       "2012-10-03 04:00:00                           6.0  "
      ]
     },
     "execution_count": 31,
     "metadata": {},
     "output_type": "execute_result"
    }
   ],
   "source": [
    "#make dates the index\n",
    "#format dates as we load the data\n",
    "bikes_df = pd.read_csv('FremontBridgeBicycle.csv', index_col=\"Date\", parse_dates=True)\n",
    "bikes_df.head()"
   ]
  },
  {
   "cell_type": "code",
   "execution_count": 32,
   "metadata": {},
   "outputs": [
    {
     "data": {
      "text/html": [
       "<div>\n",
       "<style scoped>\n",
       "    .dataframe tbody tr th:only-of-type {\n",
       "        vertical-align: middle;\n",
       "    }\n",
       "\n",
       "    .dataframe tbody tr th {\n",
       "        vertical-align: top;\n",
       "    }\n",
       "\n",
       "    .dataframe thead th {\n",
       "        text-align: right;\n",
       "    }\n",
       "</style>\n",
       "<table border=\"1\" class=\"dataframe\">\n",
       "  <thead>\n",
       "    <tr style=\"text-align: right;\">\n",
       "      <th></th>\n",
       "      <th>Fremont Bridge East Sidewalk</th>\n",
       "      <th>Fremont Bridge West Sidewalk</th>\n",
       "    </tr>\n",
       "  </thead>\n",
       "  <tbody>\n",
       "    <tr>\n",
       "      <td>count</td>\n",
       "      <td>53271.000000</td>\n",
       "      <td>53271.000000</td>\n",
       "    </tr>\n",
       "    <tr>\n",
       "      <td>mean</td>\n",
       "      <td>57.434401</td>\n",
       "      <td>54.368549</td>\n",
       "    </tr>\n",
       "    <tr>\n",
       "      <td>std</td>\n",
       "      <td>82.795998</td>\n",
       "      <td>71.282743</td>\n",
       "    </tr>\n",
       "    <tr>\n",
       "      <td>min</td>\n",
       "      <td>0.000000</td>\n",
       "      <td>0.000000</td>\n",
       "    </tr>\n",
       "    <tr>\n",
       "      <td>25%</td>\n",
       "      <td>7.000000</td>\n",
       "      <td>7.000000</td>\n",
       "    </tr>\n",
       "    <tr>\n",
       "      <td>50%</td>\n",
       "      <td>29.000000</td>\n",
       "      <td>30.000000</td>\n",
       "    </tr>\n",
       "    <tr>\n",
       "      <td>75%</td>\n",
       "      <td>70.000000</td>\n",
       "      <td>72.000000</td>\n",
       "    </tr>\n",
       "    <tr>\n",
       "      <td>max</td>\n",
       "      <td>717.000000</td>\n",
       "      <td>698.000000</td>\n",
       "    </tr>\n",
       "  </tbody>\n",
       "</table>\n",
       "</div>"
      ],
      "text/plain": [
       "       Fremont Bridge East Sidewalk  Fremont Bridge West Sidewalk\n",
       "count                  53271.000000                  53271.000000\n",
       "mean                      57.434401                     54.368549\n",
       "std                       82.795998                     71.282743\n",
       "min                        0.000000                      0.000000\n",
       "25%                        7.000000                      7.000000\n",
       "50%                       29.000000                     30.000000\n",
       "75%                       70.000000                     72.000000\n",
       "max                      717.000000                    698.000000"
      ]
     },
     "execution_count": 32,
     "metadata": {},
     "output_type": "execute_result"
    }
   ],
   "source": [
    "bikes_df.describe()"
   ]
  },
  {
   "cell_type": "code",
   "execution_count": 33,
   "metadata": {
    "jupyter": {
     "outputs_hidden": true
    },
    "scrolled": true
   },
   "outputs": [],
   "source": [
    "#rename columns with shorter name\n",
    "#create a new column 'Total' with combined values of west and east columns\n",
    "bikes_df.columns = ['East', 'West']\n",
    "bikes_df['Total'] = bikes_df.eval('East + West')\n"
   ]
  },
  {
   "cell_type": "code",
   "execution_count": 34,
   "metadata": {},
   "outputs": [
    {
     "data": {
      "text/html": [
       "<div>\n",
       "<style scoped>\n",
       "    .dataframe tbody tr th:only-of-type {\n",
       "        vertical-align: middle;\n",
       "    }\n",
       "\n",
       "    .dataframe tbody tr th {\n",
       "        vertical-align: top;\n",
       "    }\n",
       "\n",
       "    .dataframe thead th {\n",
       "        text-align: right;\n",
       "    }\n",
       "</style>\n",
       "<table border=\"1\" class=\"dataframe\">\n",
       "  <thead>\n",
       "    <tr style=\"text-align: right;\">\n",
       "      <th></th>\n",
       "      <th>East</th>\n",
       "      <th>West</th>\n",
       "      <th>Total</th>\n",
       "    </tr>\n",
       "    <tr>\n",
       "      <th>Date</th>\n",
       "      <th></th>\n",
       "      <th></th>\n",
       "      <th></th>\n",
       "    </tr>\n",
       "  </thead>\n",
       "  <tbody>\n",
       "    <tr>\n",
       "      <td>2012-10-03 00:00:00</td>\n",
       "      <td>9.0</td>\n",
       "      <td>4.0</td>\n",
       "      <td>13.0</td>\n",
       "    </tr>\n",
       "    <tr>\n",
       "      <td>2012-10-03 01:00:00</td>\n",
       "      <td>6.0</td>\n",
       "      <td>4.0</td>\n",
       "      <td>10.0</td>\n",
       "    </tr>\n",
       "    <tr>\n",
       "      <td>2012-10-03 02:00:00</td>\n",
       "      <td>1.0</td>\n",
       "      <td>1.0</td>\n",
       "      <td>2.0</td>\n",
       "    </tr>\n",
       "    <tr>\n",
       "      <td>2012-10-03 03:00:00</td>\n",
       "      <td>3.0</td>\n",
       "      <td>2.0</td>\n",
       "      <td>5.0</td>\n",
       "    </tr>\n",
       "    <tr>\n",
       "      <td>2012-10-03 04:00:00</td>\n",
       "      <td>1.0</td>\n",
       "      <td>6.0</td>\n",
       "      <td>7.0</td>\n",
       "    </tr>\n",
       "  </tbody>\n",
       "</table>\n",
       "</div>"
      ],
      "text/plain": [
       "                     East  West  Total\n",
       "Date                                  \n",
       "2012-10-03 00:00:00   9.0   4.0   13.0\n",
       "2012-10-03 01:00:00   6.0   4.0   10.0\n",
       "2012-10-03 02:00:00   1.0   1.0    2.0\n",
       "2012-10-03 03:00:00   3.0   2.0    5.0\n",
       "2012-10-03 04:00:00   1.0   6.0    7.0"
      ]
     },
     "execution_count": 34,
     "metadata": {},
     "output_type": "execute_result"
    }
   ],
   "source": [
    "bikes_df.head()"
   ]
  },
  {
   "cell_type": "code",
   "execution_count": 47,
   "metadata": {},
   "outputs": [
    {
     "data": {
      "text/plain": [
       "Text(0, 0.5, 'Hourly Bicycle Count')"
      ]
     },
     "execution_count": 47,
     "metadata": {},
     "output_type": "execute_result"
    },
    {
     "data": {
      "image/png": "[encoded data removed]",
      "text/plain": [
       "<Figure size 432x288 with 1 Axes>"
      ]
     },
     "metadata": {
      "needs_background": "light"
     },
     "output_type": "display_data"
    }
   ],
   "source": [
    "#bar plot of data\n",
    "bikes_df.plot()\n",
    "plt.ylabel('Hourly Bicycle Count')"
   ]
  },
  {
   "cell_type": "code",
   "execution_count": 22,
   "metadata": {},
   "outputs": [
    {
     "data": {
      "text/html": [
       "<div>\n",
       "<style scoped>\n",
       "    .dataframe tbody tr th:only-of-type {\n",
       "        vertical-align: middle;\n",
       "    }\n",
       "\n",
       "    .dataframe tbody tr th {\n",
       "        vertical-align: top;\n",
       "    }\n",
       "\n",
       "    .dataframe thead th {\n",
       "        text-align: right;\n",
       "    }\n",
       "</style>\n",
       "<table border=\"1\" class=\"dataframe\">\n",
       "  <thead>\n",
       "    <tr style=\"text-align: right;\">\n",
       "      <th></th>\n",
       "      <th>East</th>\n",
       "      <th>West</th>\n",
       "      <th>Total</th>\n",
       "    </tr>\n",
       "    <tr>\n",
       "      <th>Date</th>\n",
       "      <th></th>\n",
       "      <th></th>\n",
       "      <th></th>\n",
       "    </tr>\n",
       "  </thead>\n",
       "  <tbody>\n",
       "    <tr>\n",
       "      <td>2012-10-07</td>\n",
       "      <td>6995.0</td>\n",
       "      <td>7297.0</td>\n",
       "      <td>14292.0</td>\n",
       "    </tr>\n",
       "    <tr>\n",
       "      <td>2012-10-14</td>\n",
       "      <td>8116.0</td>\n",
       "      <td>8679.0</td>\n",
       "      <td>16795.0</td>\n",
       "    </tr>\n",
       "    <tr>\n",
       "      <td>2012-10-21</td>\n",
       "      <td>7563.0</td>\n",
       "      <td>7946.0</td>\n",
       "      <td>15509.0</td>\n",
       "    </tr>\n",
       "    <tr>\n",
       "      <td>2012-10-28</td>\n",
       "      <td>6536.0</td>\n",
       "      <td>6901.0</td>\n",
       "      <td>13437.0</td>\n",
       "    </tr>\n",
       "    <tr>\n",
       "      <td>2012-11-04</td>\n",
       "      <td>5786.0</td>\n",
       "      <td>6408.0</td>\n",
       "      <td>12194.0</td>\n",
       "    </tr>\n",
       "  </tbody>\n",
       "</table>\n",
       "</div>"
      ],
      "text/plain": [
       "              East    West    Total\n",
       "Date                               \n",
       "2012-10-07  6995.0  7297.0  14292.0\n",
       "2012-10-14  8116.0  8679.0  16795.0\n",
       "2012-10-21  7563.0  7946.0  15509.0\n",
       "2012-10-28  6536.0  6901.0  13437.0\n",
       "2012-11-04  5786.0  6408.0  12194.0"
      ]
     },
     "execution_count": 22,
     "metadata": {},
     "output_type": "execute_result"
    }
   ],
   "source": [
    "#hourly intervals are too narrow to make sense of data\n",
    "#aggregate as weekly data instead\n",
    "weekly = bikes_df.resample('W').sum()\n",
    "weekly.head()"
   ]
  },
  {
   "cell_type": "code",
   "execution_count": 23,
   "metadata": {},
   "outputs": [
    {
     "data": {
      "text/plain": [
       "Text(0, 0.5, 'Weekly Bicycle Count')"
      ]
     },
     "execution_count": 23,
     "metadata": {},
     "output_type": "execute_result"
    },
    {
     "data": {
      "image/png": "[encoded data removed]",
      "text/plain": [
       "<Figure size 432x288 with 1 Axes>"
      ]
     },
     "metadata": {
      "needs_background": "light"
     },
     "output_type": "display_data"
    }
   ],
   "source": [
    "# plot data by week\n",
    "weekly.plot(style=[':', '--', '-']) #line styles for each feature\n",
    "plt.ylabel('Weekly Bicycle Count')"
   ]
  },
  {
   "cell_type": "markdown",
   "metadata": {},
   "source": [
    "People tend to bike more in the summers than in the winters"
   ]
  },
  {
   "cell_type": "code",
   "execution_count": 24,
   "metadata": {},
   "outputs": [
    {
     "data": {
      "text/html": [
       "<div>\n",
       "<style scoped>\n",
       "    .dataframe tbody tr th:only-of-type {\n",
       "        vertical-align: middle;\n",
       "    }\n",
       "\n",
       "    .dataframe tbody tr th {\n",
       "        vertical-align: top;\n",
       "    }\n",
       "\n",
       "    .dataframe thead th {\n",
       "        text-align: right;\n",
       "    }\n",
       "</style>\n",
       "<table border=\"1\" class=\"dataframe\">\n",
       "  <thead>\n",
       "    <tr style=\"text-align: right;\">\n",
       "      <th></th>\n",
       "      <th>East</th>\n",
       "      <th>West</th>\n",
       "      <th>Total</th>\n",
       "    </tr>\n",
       "  </thead>\n",
       "  <tbody>\n",
       "    <tr>\n",
       "      <td>00:00:00</td>\n",
       "      <td>6.741892</td>\n",
       "      <td>5.295495</td>\n",
       "      <td>12.037387</td>\n",
       "    </tr>\n",
       "    <tr>\n",
       "      <td>01:00:00</td>\n",
       "      <td>3.387387</td>\n",
       "      <td>2.924775</td>\n",
       "      <td>6.312162</td>\n",
       "    </tr>\n",
       "    <tr>\n",
       "      <td>02:00:00</td>\n",
       "      <td>2.133634</td>\n",
       "      <td>2.081264</td>\n",
       "      <td>4.214898</td>\n",
       "    </tr>\n",
       "    <tr>\n",
       "      <td>03:00:00</td>\n",
       "      <td>1.417568</td>\n",
       "      <td>1.631081</td>\n",
       "      <td>3.048649</td>\n",
       "    </tr>\n",
       "    <tr>\n",
       "      <td>04:00:00</td>\n",
       "      <td>2.942342</td>\n",
       "      <td>3.648198</td>\n",
       "      <td>6.590541</td>\n",
       "    </tr>\n",
       "    <tr>\n",
       "      <td>05:00:00</td>\n",
       "      <td>9.600450</td>\n",
       "      <td>16.571622</td>\n",
       "      <td>26.172072</td>\n",
       "    </tr>\n",
       "    <tr>\n",
       "      <td>06:00:00</td>\n",
       "      <td>34.138288</td>\n",
       "      <td>57.562162</td>\n",
       "      <td>91.700450</td>\n",
       "    </tr>\n",
       "    <tr>\n",
       "      <td>07:00:00</td>\n",
       "      <td>78.095045</td>\n",
       "      <td>150.670721</td>\n",
       "      <td>228.765766</td>\n",
       "    </tr>\n",
       "    <tr>\n",
       "      <td>08:00:00</td>\n",
       "      <td>118.479279</td>\n",
       "      <td>202.232432</td>\n",
       "      <td>320.711712</td>\n",
       "    </tr>\n",
       "    <tr>\n",
       "      <td>09:00:00</td>\n",
       "      <td>78.788644</td>\n",
       "      <td>109.425868</td>\n",
       "      <td>188.214511</td>\n",
       "    </tr>\n",
       "    <tr>\n",
       "      <td>10:00:00</td>\n",
       "      <td>43.997296</td>\n",
       "      <td>54.311402</td>\n",
       "      <td>98.308698</td>\n",
       "    </tr>\n",
       "    <tr>\n",
       "      <td>11:00:00</td>\n",
       "      <td>39.512844</td>\n",
       "      <td>46.297882</td>\n",
       "      <td>85.810726</td>\n",
       "    </tr>\n",
       "    <tr>\n",
       "      <td>12:00:00</td>\n",
       "      <td>42.907165</td>\n",
       "      <td>47.947274</td>\n",
       "      <td>90.854439</td>\n",
       "    </tr>\n",
       "    <tr>\n",
       "      <td>13:00:00</td>\n",
       "      <td>46.806757</td>\n",
       "      <td>50.363964</td>\n",
       "      <td>97.170721</td>\n",
       "    </tr>\n",
       "    <tr>\n",
       "      <td>14:00:00</td>\n",
       "      <td>52.868018</td>\n",
       "      <td>52.695045</td>\n",
       "      <td>105.563063</td>\n",
       "    </tr>\n",
       "    <tr>\n",
       "      <td>15:00:00</td>\n",
       "      <td>71.486486</td>\n",
       "      <td>62.480180</td>\n",
       "      <td>133.966667</td>\n",
       "    </tr>\n",
       "    <tr>\n",
       "      <td>16:00:00</td>\n",
       "      <td>134.863964</td>\n",
       "      <td>87.543243</td>\n",
       "      <td>222.407207</td>\n",
       "    </tr>\n",
       "    <tr>\n",
       "      <td>17:00:00</td>\n",
       "      <td>261.292793</td>\n",
       "      <td>123.779730</td>\n",
       "      <td>385.072523</td>\n",
       "    </tr>\n",
       "    <tr>\n",
       "      <td>18:00:00</td>\n",
       "      <td>169.563964</td>\n",
       "      <td>97.184685</td>\n",
       "      <td>266.748649</td>\n",
       "    </tr>\n",
       "    <tr>\n",
       "      <td>19:00:00</td>\n",
       "      <td>78.604955</td>\n",
       "      <td>52.561712</td>\n",
       "      <td>131.166667</td>\n",
       "    </tr>\n",
       "    <tr>\n",
       "      <td>20:00:00</td>\n",
       "      <td>43.672072</td>\n",
       "      <td>32.122523</td>\n",
       "      <td>75.794595</td>\n",
       "    </tr>\n",
       "    <tr>\n",
       "      <td>21:00:00</td>\n",
       "      <td>26.760360</td>\n",
       "      <td>21.797748</td>\n",
       "      <td>48.558108</td>\n",
       "    </tr>\n",
       "    <tr>\n",
       "      <td>22:00:00</td>\n",
       "      <td>17.957658</td>\n",
       "      <td>14.391892</td>\n",
       "      <td>32.349550</td>\n",
       "    </tr>\n",
       "    <tr>\n",
       "      <td>23:00:00</td>\n",
       "      <td>12.271171</td>\n",
       "      <td>9.224775</td>\n",
       "      <td>21.495946</td>\n",
       "    </tr>\n",
       "  </tbody>\n",
       "</table>\n",
       "</div>"
      ],
      "text/plain": [
       "                East        West       Total\n",
       "00:00:00    6.741892    5.295495   12.037387\n",
       "01:00:00    3.387387    2.924775    6.312162\n",
       "02:00:00    2.133634    2.081264    4.214898\n",
       "03:00:00    1.417568    1.631081    3.048649\n",
       "04:00:00    2.942342    3.648198    6.590541\n",
       "05:00:00    9.600450   16.571622   26.172072\n",
       "06:00:00   34.138288   57.562162   91.700450\n",
       "07:00:00   78.095045  150.670721  228.765766\n",
       "08:00:00  118.479279  202.232432  320.711712\n",
       "09:00:00   78.788644  109.425868  188.214511\n",
       "10:00:00   43.997296   54.311402   98.308698\n",
       "11:00:00   39.512844   46.297882   85.810726\n",
       "12:00:00   42.907165   47.947274   90.854439\n",
       "13:00:00   46.806757   50.363964   97.170721\n",
       "14:00:00   52.868018   52.695045  105.563063\n",
       "15:00:00   71.486486   62.480180  133.966667\n",
       "16:00:00  134.863964   87.543243  222.407207\n",
       "17:00:00  261.292793  123.779730  385.072523\n",
       "18:00:00  169.563964   97.184685  266.748649\n",
       "19:00:00   78.604955   52.561712  131.166667\n",
       "20:00:00   43.672072   32.122523   75.794595\n",
       "21:00:00   26.760360   21.797748   48.558108\n",
       "22:00:00   17.957658   14.391892   32.349550\n",
       "23:00:00   12.271171    9.224775   21.495946"
      ]
     },
     "execution_count": 24,
     "metadata": {},
     "output_type": "execute_result"
    }
   ],
   "source": [
    "#see what an average day looks like\n",
    "by_time = bikes_df.groupby(bikes_df.index.time).mean()\n",
    "by_time"
   ]
  },
  {
   "cell_type": "code",
   "execution_count": 25,
   "metadata": {},
   "outputs": [
    {
     "data": {
      "text/plain": [
       "<matplotlib.axes._subplots.AxesSubplot at 0xa4df88fb48>"
      ]
     },
     "execution_count": 25,
     "metadata": {},
     "output_type": "execute_result"
    },
    {
     "data": {
      "image/png": "[encoded data removed]",
      "text/plain": [
       "<Figure size 432x288 with 1 Axes>"
      ]
     },
     "metadata": {
      "needs_background": "light"
     },
     "output_type": "display_data"
    }
   ],
   "source": [
    "# create less cluttered tick markers for graph\n",
    "hourly_ticks = 4*60*60*np.arange(6) #6 intervals of 4 hours\n",
    "by_time.plot(xticks=hourly_ticks, style=[':','--','-'])"
   ]
  },
  {
   "cell_type": "markdown",
   "metadata": {},
   "source": [
    "Bike usage peaks around 8am and 5pm"
   ]
  },
  {
   "cell_type": "markdown",
   "metadata": {},
   "source": [
    "### What does bike usage look like by day of the week?"
   ]
  },
  {
   "cell_type": "code",
   "execution_count": 26,
   "metadata": {},
   "outputs": [
    {
     "data": {
      "text/html": [
       "<div>\n",
       "<style scoped>\n",
       "    .dataframe tbody tr th:only-of-type {\n",
       "        vertical-align: middle;\n",
       "    }\n",
       "\n",
       "    .dataframe tbody tr th {\n",
       "        vertical-align: top;\n",
       "    }\n",
       "\n",
       "    .dataframe thead th {\n",
       "        text-align: right;\n",
       "    }\n",
       "</style>\n",
       "<table border=\"1\" class=\"dataframe\">\n",
       "  <thead>\n",
       "    <tr style=\"text-align: right;\">\n",
       "      <th></th>\n",
       "      <th>East</th>\n",
       "      <th>West</th>\n",
       "      <th>Total</th>\n",
       "    </tr>\n",
       "  </thead>\n",
       "  <tbody>\n",
       "    <tr>\n",
       "      <td>Mon</td>\n",
       "      <td>68.231730</td>\n",
       "      <td>62.413118</td>\n",
       "      <td>130.644848</td>\n",
       "    </tr>\n",
       "    <tr>\n",
       "      <td>Tue</td>\n",
       "      <td>73.011307</td>\n",
       "      <td>67.605180</td>\n",
       "      <td>140.616487</td>\n",
       "    </tr>\n",
       "    <tr>\n",
       "      <td>Wed</td>\n",
       "      <td>72.623821</td>\n",
       "      <td>66.558176</td>\n",
       "      <td>139.181997</td>\n",
       "    </tr>\n",
       "    <tr>\n",
       "      <td>Thur</td>\n",
       "      <td>68.074395</td>\n",
       "      <td>63.418638</td>\n",
       "      <td>131.493034</td>\n",
       "    </tr>\n",
       "    <tr>\n",
       "      <td>Fri</td>\n",
       "      <td>61.687221</td>\n",
       "      <td>57.070076</td>\n",
       "      <td>118.757297</td>\n",
       "    </tr>\n",
       "    <tr>\n",
       "      <td>Sat</td>\n",
       "      <td>30.073475</td>\n",
       "      <td>32.284043</td>\n",
       "      <td>62.357518</td>\n",
       "    </tr>\n",
       "    <tr>\n",
       "      <td>Sun</td>\n",
       "      <td>28.276996</td>\n",
       "      <td>31.181113</td>\n",
       "      <td>59.458109</td>\n",
       "    </tr>\n",
       "  </tbody>\n",
       "</table>\n",
       "</div>"
      ],
      "text/plain": [
       "           East       West       Total\n",
       "Mon   68.231730  62.413118  130.644848\n",
       "Tue   73.011307  67.605180  140.616487\n",
       "Wed   72.623821  66.558176  139.181997\n",
       "Thur  68.074395  63.418638  131.493034\n",
       "Fri   61.687221  57.070076  118.757297\n",
       "Sat   30.073475  32.284043   62.357518\n",
       "Sun   28.276996  31.181113   59.458109"
      ]
     },
     "execution_count": 26,
     "metadata": {},
     "output_type": "execute_result"
    }
   ],
   "source": [
    "by_weekday = bikes_df.groupby(bikes_df.index.dayofweek).mean()\n",
    "by_weekday.index = ['Mon', 'Tue', 'Wed', 'Thur', 'Fri', 'Sat', 'Sun']\n",
    "\n",
    "by_weekday"
   ]
  },
  {
   "cell_type": "code",
   "execution_count": 27,
   "metadata": {},
   "outputs": [
    {
     "data": {
      "text/plain": [
       "<matplotlib.axes._subplots.AxesSubplot at 0xa4dfa17e48>"
      ]
     },
     "execution_count": 27,
     "metadata": {},
     "output_type": "execute_result"
    },
    {
     "data": {
      "image/png": "[encoded data removed]",
      "text/plain": [
       "<Figure size 432x288 with 1 Axes>"
      ]
     },
     "metadata": {
      "needs_background": "light"
     },
     "output_type": "display_data"
    }
   ],
   "source": [
    "by_weekday.plot(style=[':','--','-'])"
   ]
  },
  {
   "cell_type": "markdown",
   "metadata": {},
   "source": [
    "Bike usage is highest during weekdays and drops off on weekends"
   ]
  },
  {
   "cell_type": "code",
   "execution_count": 28,
   "metadata": {
    "jupyter": {
     "outputs_hidden": true
    }
   },
   "outputs": [
    {
     "data": {
      "text/plain": [
       "array(['Weekday', 'Weekday', 'Weekday', ..., 'Weekday', 'Weekday',\n",
       "       'Weekday'], dtype='<U7')"
      ]
     },
     "execution_count": 28,
     "metadata": {},
     "output_type": "execute_result"
    }
   ],
   "source": [
    "#set conditions to show hourly trend on weekdays vs weekends\n",
    "weekend = np.where(bikes_df.index.weekday < 5, 'Weekday', 'Weekend')\n",
    "weekend"
   ]
  },
  {
   "cell_type": "code",
   "execution_count": 29,
   "metadata": {},
   "outputs": [
    {
     "data": {
      "text/html": [
       "<div>\n",
       "<style scoped>\n",
       "    .dataframe tbody tr th:only-of-type {\n",
       "        vertical-align: middle;\n",
       "    }\n",
       "\n",
       "    .dataframe tbody tr th {\n",
       "        vertical-align: top;\n",
       "    }\n",
       "\n",
       "    .dataframe thead th {\n",
       "        text-align: right;\n",
       "    }\n",
       "</style>\n",
       "<table border=\"1\" class=\"dataframe\">\n",
       "  <thead>\n",
       "    <tr style=\"text-align: right;\">\n",
       "      <th></th>\n",
       "      <th></th>\n",
       "      <th>East</th>\n",
       "      <th>West</th>\n",
       "      <th>Total</th>\n",
       "    </tr>\n",
       "  </thead>\n",
       "  <tbody>\n",
       "    <tr>\n",
       "      <td rowspan=\"24\" valign=\"top\">Weekday</td>\n",
       "      <td>00:00:00</td>\n",
       "      <td>5.616646</td>\n",
       "      <td>4.600252</td>\n",
       "      <td>10.216898</td>\n",
       "    </tr>\n",
       "    <tr>\n",
       "      <td>01:00:00</td>\n",
       "      <td>2.625473</td>\n",
       "      <td>2.350567</td>\n",
       "      <td>4.976040</td>\n",
       "    </tr>\n",
       "    <tr>\n",
       "      <td>02:00:00</td>\n",
       "      <td>1.660782</td>\n",
       "      <td>1.707440</td>\n",
       "      <td>3.368222</td>\n",
       "    </tr>\n",
       "    <tr>\n",
       "      <td>03:00:00</td>\n",
       "      <td>1.293190</td>\n",
       "      <td>1.497478</td>\n",
       "      <td>2.790668</td>\n",
       "    </tr>\n",
       "    <tr>\n",
       "      <td>04:00:00</td>\n",
       "      <td>3.284994</td>\n",
       "      <td>4.342371</td>\n",
       "      <td>7.627364</td>\n",
       "    </tr>\n",
       "    <tr>\n",
       "      <td>05:00:00</td>\n",
       "      <td>12.124842</td>\n",
       "      <td>21.496217</td>\n",
       "      <td>33.621059</td>\n",
       "    </tr>\n",
       "    <tr>\n",
       "      <td>06:00:00</td>\n",
       "      <td>44.283102</td>\n",
       "      <td>77.169609</td>\n",
       "      <td>121.452711</td>\n",
       "    </tr>\n",
       "    <tr>\n",
       "      <td>07:00:00</td>\n",
       "      <td>103.431274</td>\n",
       "      <td>204.063682</td>\n",
       "      <td>307.494956</td>\n",
       "    </tr>\n",
       "    <tr>\n",
       "      <td>08:00:00</td>\n",
       "      <td>154.981084</td>\n",
       "      <td>270.314628</td>\n",
       "      <td>425.295712</td>\n",
       "    </tr>\n",
       "    <tr>\n",
       "      <td>09:00:00</td>\n",
       "      <td>95.291483</td>\n",
       "      <td>135.668139</td>\n",
       "      <td>230.959621</td>\n",
       "    </tr>\n",
       "    <tr>\n",
       "      <td>10:00:00</td>\n",
       "      <td>44.016404</td>\n",
       "      <td>54.544479</td>\n",
       "      <td>98.560883</td>\n",
       "    </tr>\n",
       "    <tr>\n",
       "      <td>11:00:00</td>\n",
       "      <td>33.926814</td>\n",
       "      <td>39.879495</td>\n",
       "      <td>73.806309</td>\n",
       "    </tr>\n",
       "    <tr>\n",
       "      <td>12:00:00</td>\n",
       "      <td>36.225237</td>\n",
       "      <td>39.849842</td>\n",
       "      <td>76.075079</td>\n",
       "    </tr>\n",
       "    <tr>\n",
       "      <td>13:00:00</td>\n",
       "      <td>40.134300</td>\n",
       "      <td>42.194199</td>\n",
       "      <td>82.328499</td>\n",
       "    </tr>\n",
       "    <tr>\n",
       "      <td>14:00:00</td>\n",
       "      <td>48.225725</td>\n",
       "      <td>45.167087</td>\n",
       "      <td>93.392812</td>\n",
       "    </tr>\n",
       "    <tr>\n",
       "      <td>15:00:00</td>\n",
       "      <td>74.413619</td>\n",
       "      <td>59.441362</td>\n",
       "      <td>133.854981</td>\n",
       "    </tr>\n",
       "    <tr>\n",
       "      <td>16:00:00</td>\n",
       "      <td>165.027112</td>\n",
       "      <td>96.728878</td>\n",
       "      <td>261.755990</td>\n",
       "    </tr>\n",
       "    <tr>\n",
       "      <td>17:00:00</td>\n",
       "      <td>345.211223</td>\n",
       "      <td>151.732030</td>\n",
       "      <td>496.943253</td>\n",
       "    </tr>\n",
       "    <tr>\n",
       "      <td>18:00:00</td>\n",
       "      <td>221.565574</td>\n",
       "      <td>119.021438</td>\n",
       "      <td>340.587011</td>\n",
       "    </tr>\n",
       "    <tr>\n",
       "      <td>19:00:00</td>\n",
       "      <td>98.963430</td>\n",
       "      <td>62.368852</td>\n",
       "      <td>161.332282</td>\n",
       "    </tr>\n",
       "    <tr>\n",
       "      <td>20:00:00</td>\n",
       "      <td>52.647541</td>\n",
       "      <td>37.052333</td>\n",
       "      <td>89.699874</td>\n",
       "    </tr>\n",
       "    <tr>\n",
       "      <td>21:00:00</td>\n",
       "      <td>31.238335</td>\n",
       "      <td>24.926860</td>\n",
       "      <td>56.165195</td>\n",
       "    </tr>\n",
       "    <tr>\n",
       "      <td>22:00:00</td>\n",
       "      <td>20.177806</td>\n",
       "      <td>16.027112</td>\n",
       "      <td>36.204918</td>\n",
       "    </tr>\n",
       "    <tr>\n",
       "      <td>23:00:00</td>\n",
       "      <td>13.071879</td>\n",
       "      <td>9.829130</td>\n",
       "      <td>22.901009</td>\n",
       "    </tr>\n",
       "    <tr>\n",
       "      <td rowspan=\"24\" valign=\"top\">Weekend</td>\n",
       "      <td>00:00:00</td>\n",
       "      <td>9.556782</td>\n",
       "      <td>7.034700</td>\n",
       "      <td>16.591483</td>\n",
       "    </tr>\n",
       "    <tr>\n",
       "      <td>01:00:00</td>\n",
       "      <td>5.293375</td>\n",
       "      <td>4.361199</td>\n",
       "      <td>9.654574</td>\n",
       "    </tr>\n",
       "    <tr>\n",
       "      <td>02:00:00</td>\n",
       "      <td>3.325914</td>\n",
       "      <td>3.023847</td>\n",
       "      <td>6.349762</td>\n",
       "    </tr>\n",
       "    <tr>\n",
       "      <td>03:00:00</td>\n",
       "      <td>1.728707</td>\n",
       "      <td>1.965300</td>\n",
       "      <td>3.694006</td>\n",
       "    </tr>\n",
       "    <tr>\n",
       "      <td>04:00:00</td>\n",
       "      <td>2.085174</td>\n",
       "      <td>1.911672</td>\n",
       "      <td>3.996845</td>\n",
       "    </tr>\n",
       "    <tr>\n",
       "      <td>05:00:00</td>\n",
       "      <td>3.285489</td>\n",
       "      <td>4.252366</td>\n",
       "      <td>7.537855</td>\n",
       "    </tr>\n",
       "    <tr>\n",
       "      <td>06:00:00</td>\n",
       "      <td>8.760252</td>\n",
       "      <td>8.512618</td>\n",
       "      <td>17.272871</td>\n",
       "    </tr>\n",
       "    <tr>\n",
       "      <td>07:00:00</td>\n",
       "      <td>14.714511</td>\n",
       "      <td>17.104101</td>\n",
       "      <td>31.818612</td>\n",
       "    </tr>\n",
       "    <tr>\n",
       "      <td>08:00:00</td>\n",
       "      <td>27.167192</td>\n",
       "      <td>31.919558</td>\n",
       "      <td>59.086751</td>\n",
       "    </tr>\n",
       "    <tr>\n",
       "      <td>09:00:00</td>\n",
       "      <td>37.531546</td>\n",
       "      <td>43.820189</td>\n",
       "      <td>81.351735</td>\n",
       "    </tr>\n",
       "    <tr>\n",
       "      <td>10:00:00</td>\n",
       "      <td>43.949527</td>\n",
       "      <td>53.728707</td>\n",
       "      <td>97.678233</td>\n",
       "    </tr>\n",
       "    <tr>\n",
       "      <td>11:00:00</td>\n",
       "      <td>53.477918</td>\n",
       "      <td>62.343849</td>\n",
       "      <td>115.821767</td>\n",
       "    </tr>\n",
       "    <tr>\n",
       "      <td>12:00:00</td>\n",
       "      <td>59.611987</td>\n",
       "      <td>68.190852</td>\n",
       "      <td>127.802839</td>\n",
       "    </tr>\n",
       "    <tr>\n",
       "      <td>13:00:00</td>\n",
       "      <td>63.498423</td>\n",
       "      <td>70.801262</td>\n",
       "      <td>134.299685</td>\n",
       "    </tr>\n",
       "    <tr>\n",
       "      <td>14:00:00</td>\n",
       "      <td>64.481073</td>\n",
       "      <td>71.526814</td>\n",
       "      <td>136.007886</td>\n",
       "    </tr>\n",
       "    <tr>\n",
       "      <td>15:00:00</td>\n",
       "      <td>64.164038</td>\n",
       "      <td>70.082019</td>\n",
       "      <td>134.246057</td>\n",
       "    </tr>\n",
       "    <tr>\n",
       "      <td>16:00:00</td>\n",
       "      <td>59.408517</td>\n",
       "      <td>64.564669</td>\n",
       "      <td>123.973186</td>\n",
       "    </tr>\n",
       "    <tr>\n",
       "      <td>17:00:00</td>\n",
       "      <td>51.364353</td>\n",
       "      <td>53.854890</td>\n",
       "      <td>105.219243</td>\n",
       "    </tr>\n",
       "    <tr>\n",
       "      <td>18:00:00</td>\n",
       "      <td>39.477918</td>\n",
       "      <td>42.558360</td>\n",
       "      <td>82.036278</td>\n",
       "    </tr>\n",
       "    <tr>\n",
       "      <td>19:00:00</td>\n",
       "      <td>27.676656</td>\n",
       "      <td>28.028391</td>\n",
       "      <td>55.705047</td>\n",
       "    </tr>\n",
       "    <tr>\n",
       "      <td>20:00:00</td>\n",
       "      <td>21.219243</td>\n",
       "      <td>19.790221</td>\n",
       "      <td>41.009464</td>\n",
       "    </tr>\n",
       "    <tr>\n",
       "      <td>21:00:00</td>\n",
       "      <td>15.558360</td>\n",
       "      <td>13.970032</td>\n",
       "      <td>29.528391</td>\n",
       "    </tr>\n",
       "    <tr>\n",
       "      <td>22:00:00</td>\n",
       "      <td>12.403785</td>\n",
       "      <td>10.301262</td>\n",
       "      <td>22.705047</td>\n",
       "    </tr>\n",
       "    <tr>\n",
       "      <td>23:00:00</td>\n",
       "      <td>10.268139</td>\n",
       "      <td>7.712934</td>\n",
       "      <td>17.981073</td>\n",
       "    </tr>\n",
       "  </tbody>\n",
       "</table>\n",
       "</div>"
      ],
      "text/plain": [
       "                        East        West       Total\n",
       "Weekday 00:00:00    5.616646    4.600252   10.216898\n",
       "        01:00:00    2.625473    2.350567    4.976040\n",
       "        02:00:00    1.660782    1.707440    3.368222\n",
       "        03:00:00    1.293190    1.497478    2.790668\n",
       "        04:00:00    3.284994    4.342371    7.627364\n",
       "        05:00:00   12.124842   21.496217   33.621059\n",
       "        06:00:00   44.283102   77.169609  121.452711\n",
       "        07:00:00  103.431274  204.063682  307.494956\n",
       "        08:00:00  154.981084  270.314628  425.295712\n",
       "        09:00:00   95.291483  135.668139  230.959621\n",
       "        10:00:00   44.016404   54.544479   98.560883\n",
       "        11:00:00   33.926814   39.879495   73.806309\n",
       "        12:00:00   36.225237   39.849842   76.075079\n",
       "        13:00:00   40.134300   42.194199   82.328499\n",
       "        14:00:00   48.225725   45.167087   93.392812\n",
       "        15:00:00   74.413619   59.441362  133.854981\n",
       "        16:00:00  165.027112   96.728878  261.755990\n",
       "        17:00:00  345.211223  151.732030  496.943253\n",
       "        18:00:00  221.565574  119.021438  340.587011\n",
       "        19:00:00   98.963430   62.368852  161.332282\n",
       "        20:00:00   52.647541   37.052333   89.699874\n",
       "        21:00:00   31.238335   24.926860   56.165195\n",
       "        22:00:00   20.177806   16.027112   36.204918\n",
       "        23:00:00   13.071879    9.829130   22.901009\n",
       "Weekend 00:00:00    9.556782    7.034700   16.591483\n",
       "        01:00:00    5.293375    4.361199    9.654574\n",
       "        02:00:00    3.325914    3.023847    6.349762\n",
       "        03:00:00    1.728707    1.965300    3.694006\n",
       "        04:00:00    2.085174    1.911672    3.996845\n",
       "        05:00:00    3.285489    4.252366    7.537855\n",
       "        06:00:00    8.760252    8.512618   17.272871\n",
       "        07:00:00   14.714511   17.104101   31.818612\n",
       "        08:00:00   27.167192   31.919558   59.086751\n",
       "        09:00:00   37.531546   43.820189   81.351735\n",
       "        10:00:00   43.949527   53.728707   97.678233\n",
       "        11:00:00   53.477918   62.343849  115.821767\n",
       "        12:00:00   59.611987   68.190852  127.802839\n",
       "        13:00:00   63.498423   70.801262  134.299685\n",
       "        14:00:00   64.481073   71.526814  136.007886\n",
       "        15:00:00   64.164038   70.082019  134.246057\n",
       "        16:00:00   59.408517   64.564669  123.973186\n",
       "        17:00:00   51.364353   53.854890  105.219243\n",
       "        18:00:00   39.477918   42.558360   82.036278\n",
       "        19:00:00   27.676656   28.028391   55.705047\n",
       "        20:00:00   21.219243   19.790221   41.009464\n",
       "        21:00:00   15.558360   13.970032   29.528391\n",
       "        22:00:00   12.403785   10.301262   22.705047\n",
       "        23:00:00   10.268139    7.712934   17.981073"
      ]
     },
     "execution_count": 29,
     "metadata": {},
     "output_type": "execute_result"
    }
   ],
   "source": [
    "by_weektime = bikes_df.groupby([weekend, bikes_df.index.time]).mean()\n",
    "by_weektime"
   ]
  },
  {
   "cell_type": "code",
   "execution_count": 30,
   "metadata": {},
   "outputs": [
    {
     "data": {
      "text/plain": [
       "<matplotlib.axes._subplots.AxesSubplot at 0xa4e3487b48>"
      ]
     },
     "execution_count": 30,
     "metadata": {},
     "output_type": "execute_result"
    },
    {
     "data": {
      "image/png": "[encoded data removed]",
      "text/plain": [
       "<Figure size 1008x360 with 2 Axes>"
      ]
     },
     "metadata": {
      "needs_background": "light"
     },
     "output_type": "display_data"
    }
   ],
   "source": [
    "fig, ax = plt.subplots(1, 2, figsize=(14, 5))\n",
    "by_weektime.loc['Weekday'].plot(ax=ax[0], title='Weekdays',\n",
    "                           xticks=hourly_ticks, style=[':', '--', '-'])\n",
    "\n",
    "by_weektime.loc['Weekend'].plot(ax=ax[1], title='Weekends',\n",
    "                           xticks=hourly_ticks, style=[':', '--', '-'])"
   ]
  },
  {
   "cell_type": "code",
   "execution_count": null,
   "metadata": {},
   "outputs": [],
   "source": []
  }
 ],
 "metadata": {
  "kernelspec": {
   "display_name": "Python 3",
   "language": "python",
   "name": "python3"
  },
  "language_info": {
   "codemirror_mode": {
    "name": "ipython",
    "version": 3
   },
   "file_extension": ".py",
   "mimetype": "text/x-python",
   "name": "python",
   "nbconvert_exporter": "python",
   "pygments_lexer": "ipython3",
   "version": "3.7.4"
  }
 },
 "nbformat": 4,
 "nbformat_minor": 4
}
